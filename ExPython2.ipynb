{
  "nbformat": 4,
  "nbformat_minor": 0,
  "metadata": {
    "colab": {
      "provenance": []
    },
    "kernelspec": {
      "name": "python3",
      "display_name": "Python 3"
    },
    "language_info": {
      "name": "python"
    }
  },
  "cells": [
    {
      "cell_type": "code",
      "execution_count": null,
      "metadata": {
        "id": "cuCTX85sZ_Ba"
      },
      "outputs": [],
      "source": [
        "nota1 = float(input(\"Insira a nota do seu trabalho de laboratório :\"))\n",
        "nota2 = float(input(\"Insira a nota da sua avaliação semestral :\"))\n",
        "nota3 = float(input(\"Insira a nota do seu exame final :\"))\n",
        "peso1 = 2\n",
        "peso2 = 3\n",
        "peso3 = 5\n",
        "mediapond = ((nota1*peso1+nota2*peso2+nota3*peso3)/(peso1+peso2+peso3))\n",
        "print ('a média ponderada é:',mediapond)\n",
        "if mediapond >=8 and mediapond<=10:\n",
        "  print ('O Conceito é A')\n",
        "if mediapond >=7 and mediapond<8:\n",
        "  print ('O Conceito é B')\n",
        "if mediapond >=6 and mediapond<7:\n",
        "  print ('O Conceito é C')\n",
        "if mediapond >=5 and mediapond<6:\n",
        "  print ('O Conceito é D')\n",
        "if mediapond >=0 and mediapond<5:\n",
        "  print ('O Conceito é E') "
      ]
    },
    {
      "cell_type": "code",
      "source": [
        "nota1 = float(input(\"Insira a nota do aluno:\"))\n",
        "nota2 = float(input(\"Insira a nota do aluno:\"))\n",
        "nota3 = float(input(\"Insira a nota do aluno:\"))\n",
        "mediaarit = (nota1+nota2+nota3)/3\n",
        "print('A média foi:',mediaarit)\n",
        "if mediaarit >=7 and mediaarit <=10:\n",
        "  print ('Aprovado :)')\n",
        "if mediaarit >3 and mediaarit <=7:\n",
        "  print ('Exame Especial :|')  \n",
        "if mediaarit >=0 and mediaarit <=3:\n",
        "  print ('Reprovado :(') "
      ],
      "metadata": {
        "id": "0s94tuhhaEBU"
      },
      "execution_count": null,
      "outputs": []
    },
    {
      "cell_type": "code",
      "source": [
        "n1 = int(input(\"Insira um número\"))\n",
        "n2 = int(input(\"Insira um número\"))\n",
        "if n1>n2:\n",
        "  print ('O número maior é:',n1)\n",
        "elif n2>n1:\n",
        "  print ('O número maior é:',n2)"
      ],
      "metadata": {
        "id": "j7SpBU98aD9c"
      },
      "execution_count": null,
      "outputs": []
    },
    {
      "cell_type": "code",
      "source": [
        "n1 = int(input(\"Digite um número\"))\n",
        "resto = n1 % 2\n",
        "if resto == 0:\n",
        "    print('Número é par')\n",
        "else:\n",
        "    print('Número é impar')"
      ],
      "metadata": {
        "id": "MY0X7XVyaD5L"
      },
      "execution_count": null,
      "outputs": []
    },
    {
      "cell_type": "code",
      "source": [
        "menu = 0\n",
        "while menu != 3:\n",
        "    print('Escolha uma opção no menu')\n",
        "    menu = int(input(('''\n",
        "    1: Somar números\n",
        "    2: Raiz Quadrada\n",
        "    3: Finalizar\n",
        "    Digite aqui: ''')))\n",
        "    if menu == 1:\n",
        "        n1 = int(input('Digite um número'))\n",
        "        n2 = int(input('Digite mais um número'))\n",
        "        soma = n1 + n2\n",
        "        print('A soma entre {} e {} e de {}'.format(n1, n2, soma))\n",
        "    if menu == 2:\n",
        "        r1 = int(input('Digite um número'))  \n",
        "        raiz = r1 ** (1/2)  \n",
        "        print('A raiz quadrada do número é:',raiz)\n",
        "    elif menu == 3:\n",
        "        print('Programa finalizado')\n",
        "print('Obrigado :)')"
      ],
      "metadata": {
        "id": "IUzlmpHBaD09"
      },
      "execution_count": null,
      "outputs": []
    },
    {
      "cell_type": "code",
      "source": [
        "codigo = int(input('Informe o código:'))\n",
        "salario = int(input('Informe o seu salário'))\n",
        "c1 = salario*0.50\n",
        "c2 = salario*0.35\n",
        "c3 = salario*0.20\n",
        "c4 = salario*0.10\n",
        "i = 0\n",
        "if codigo == 1:\n",
        "    print('Seu cargo é: Escrituário',\n",
        "          '\\n seu aumento é de:', c1,'R$',\n",
        "          '\\n Seu novo salário é:', c1+salario,'R$')\n",
        "if codigo == 2:\n",
        "    print('Seu cargo é: Secretário',\n",
        "          '\\n seu aumento é de:', c2,'R$',\n",
        "          '\\n Seu novo salário é:', c2+salario,'R$')\n",
        "if codigo == 3:\n",
        "    print('Seu cargo é: Caixa',\n",
        "          '\\n seu aumento é de:', c3,'R$',\n",
        "          '\\n Seu novo salário é:', c3+salario,'R$')\n",
        "if codigo == 4:\n",
        "    print('Seu cargo é: Gerente',\n",
        "          '\\n seu aumento é de:', c4,'R$',\n",
        "          '\\n Seu novo salário é:', c4+salario,'R$')\n",
        "if codigo == 5:\n",
        "    print('Seu cargo é: Diretor',\n",
        "          '\\n seu aumento é de:', '0R$',\n",
        "          '\\n Seu novo salário é:', salario,'R$')"
      ],
      "metadata": {
        "id": "tKd9JlgxaDv8"
      },
      "execution_count": null,
      "outputs": []
    },
    {
      "cell_type": "code",
      "source": [
        "salario = int(input('Informe salário inicial'))\n",
        "\n",
        "if salario <=500:\n",
        "  nsalario = (salario*0.05)\n",
        "  print ('Sua bonificação é de:', nsalario, 'R$')\n",
        "if salario >500 and salario <=1200:\n",
        "  nsalario = (salario*0.12)\n",
        "  print ('Sua bonificação é de:', nsalario, 'R$')\n",
        "if salario >1200:\n",
        "  print ('Você não tem bonificação')\n",
        "\n",
        "if salario <=600:\n",
        "  aux = 150\n",
        "  print ('Seu auxílio é:', aux,'R$')\n",
        "if salario >600:\n",
        "  aux = 100\n",
        "  print ('Seu auxílio é:', aux,'R$')\n",
        "\n",
        "total = salario + nsalario + aux\n",
        "print ('Seu salário total é de:', total) "
      ],
      "metadata": {
        "id": "RGIH3gh4aDrf"
      },
      "execution_count": null,
      "outputs": []
    },
    {
      "cell_type": "code",
      "source": [
        "preco = int(input('Informe o preço do produto'))\n",
        "venda = int(input('Informe a média das vendas mensais'))\n",
        "\n",
        "if venda<500 and preco<30:\n",
        "  np = (preco*0.10)+preco\n",
        "  print('O novo preço é:',np,'R$')\n",
        "if venda>=500 and venda<1200 and preco>=30 and preco<80:\n",
        "  np = (preco*0.15)+preco\n",
        "  print('O novo preço é:',np,'R$')\n",
        "if venda>=1200 and preco>=80:\n",
        "  np = preco-(preco*0.20)\n",
        "  print('O novo preço é:',np)"
      ],
      "metadata": {
        "id": "inwPcgrJaDm0"
      },
      "execution_count": null,
      "outputs": []
    },
    {
      "cell_type": "code",
      "source": [
        "a = float(input(\"Informe o valor de A:\"))\n",
        "b = float(input(\"Informe o valor de B:\"))\n",
        "c = float(input(\"informe o valor de C:\"))\n",
        "delta = (b**2) - (4*a*c)\n",
        "raiz = (delta)**0.5\n",
        "x1 = (-b+raiz)/(2*a)\n",
        "x2 = (-b-raiz)/(2*a)\n",
        "if (delta) <0 :\n",
        "    print (\"Essa equação não possui raízes reais.\")\n",
        "elif (delta) ==0 :\n",
        "    print (\"A raiz desta equação é X: \",x1,)\n",
        "else :\n",
        "     print(\"As raízes da equação são: \",x2, \"e\" ,x1,)"
      ],
      "metadata": {
        "id": "x_I6UCyzaDiD"
      },
      "execution_count": null,
      "outputs": []
    },
    {
      "cell_type": "code",
      "source": [
        "x = int(input('Informe um lado do triângulo'))\n",
        "y = int(input('Informe um outro lado do triângulo'))\n",
        "z = int(input('Informe mais um lado do triângulo'))\n",
        "if (x + y < z) or (x + z < y) or (y + z < x):\n",
        "  print('Não é um triangulo.')\n",
        "if x==y and x==z and y==z:\n",
        "  print ('É um Triângulo Equilátero.')\n",
        "if (x==y and x!=z) or (x==z and x!=y) or (y==z and y!=x):\n",
        "  print ('É um Triângulo Isoceles.')\n",
        "if (x!=y and x!=z and y!=z): \n",
        "  print('É um Triângulo Escaleno.')  "
      ],
      "metadata": {
        "id": "rpE-rZqsaDdM"
      },
      "execution_count": null,
      "outputs": []
    },
    {
      "cell_type": "code",
      "source": [
        "altura = int(input('Informe a sua altura em cm'))\n",
        "peso = float(input('Informe o seu peso em Kg'))\n",
        "\n",
        "if altura <120 and peso <60:\n",
        "  print('Sua classificação é: A')\n",
        "if altura <120 and peso >=60 and peso <90:\n",
        "  print('Sua classificação é: D')\n",
        "if altura <120 and peso>90:\n",
        "  print ('Sua classificação é: G')\n",
        "\n",
        "if altura >=120 and altura<170 and peso <60:\n",
        "  print('Sua classificação é: B')\n",
        "if altura >=120 and altura<170 and peso >=60 and peso <90:\n",
        "  print('Sua classificação é: E')\n",
        "if altura >=120 and altura<170 and peso>90:\n",
        "  print ('Sua classificação é: H')  \n",
        "\n",
        "if altura>170 and peso <60:\n",
        "  print('Sua classificação é: C')\n",
        "if altura>170 and peso >=60 and peso <90:\n",
        "  print('Sua classificação é: F')\n",
        "if altura>170 and peso>90:\n",
        "  print ('Sua classificação é: I')    "
      ],
      "metadata": {
        "id": "NRyqKFy1aDYn"
      },
      "execution_count": null,
      "outputs": []
    },
    {
      "cell_type": "code",
      "source": [
        "cod = int(input('Digite o código do produto'))\n",
        "while cod <0 or cod >10:\n",
        "  print('Digite um valor válido entre 1 e 10')\n",
        "  cod = int(input('Digite o código do produto'))\n",
        "peso = float(input('Digite o peso do produto'))\n",
        "codpais = int(input('Digite o código do país'))\n",
        "while codpais <1 or codpais >3:\n",
        "  print('Digite um código válido entre 1 e 3')\n",
        "  codpais = int(input('Digite o código do país'))"
      ],
      "metadata": {
        "id": "rw2LhbF1aDT0"
      },
      "execution_count": null,
      "outputs": []
    },
    {
      "cell_type": "code",
      "source": [
        "print(\"Número \\t\\tQuadrado\\tCubo\\n\")\n",
        "print('0 \\t\\t',0*0,'\\t\\t', 0 * 0 * 0)\n",
        "print('1 \\t\\t',1*1,'\\t\\t', 1 * 1 * 1)\n",
        "print('2 \\t\\t',2*2,'\\t\\t', 2 * 2 * 2)\n",
        "print('3 \\t\\t',3*3,'\\t\\t', 3 * 3 * 3)\n",
        "print('4 \\t\\t',4*4,'\\t\\t', 4 * 4 * 4)\n",
        "print('5 \\t\\t',5*5,'\\t\\t', 5 * 5 * 5)\n",
        "print('6 \\t\\t',6*6,'\\t\\t', 6 * 6 * 6)\n",
        "print('7 \\t\\t',7*7,'\\t\\t', 7 * 7 * 7)\n",
        "print('8 \\t\\t',8*8,'\\t\\t', 8 * 8 * 8)\n",
        "print('9 \\t\\t',9*9,'\\t\\t', 9 * 9 * 9)\n",
        "print('10\\t\\t',10*10,'\\t\\t', 10 * 10 * 10)"
      ],
      "metadata": {
        "id": "9G9sHJCraDO_"
      },
      "execution_count": null,
      "outputs": []
    },
    {
      "cell_type": "code",
      "source": [
        "anoatual = 2005\n",
        "salainicial = 1000\n",
        "while anoatual == 2005:\n",
        "  print('Ano de:',anoatual)\n",
        "  print('O Salário é',salainicial,'$')\n",
        "  anoatual = anoatual+1\n",
        "  while anoatual == 2006:\n",
        "    print('Ano de:',anoatual)\n",
        "    salaumento = (salainicial*0.015)+salainicial\n",
        "    print('O Salário é',salaumento,'$')\n",
        "    anoatual = anoatual+1\n",
        "    while anoatual == 2007:\n",
        "      print('Ano de:',anoatual)\n",
        "      salaumento = (salainicial*0.030)+salainicial\n",
        "      print('O Salário é',salaumento,'$')\n",
        "      anoatual = anoatual+1\n",
        "      while anoatual == 2008:\n",
        "         print('Ano de:',anoatual)\n",
        "         salaumento = (salainicial*0.060)+salainicial\n",
        "         print('O Salário é',salaumento,'$')\n",
        "         anoatual = anoatual+1\n",
        "         while anoatual == 2009:\n",
        "            print('Ano de:',anoatual)\n",
        "            salaumento = (salainicial*0.12)+salainicial\n",
        "            print('O Salário é',salaumento,'$')\n",
        "            anoatual = anoatual+1\n",
        "            while anoatual == 2010:\n",
        "              print('Ano de:',anoatual)\n",
        "              salaumento = (salainicial*0.24)+salainicial\n",
        "              print('O Salário é',salaumento,'$')\n",
        "              anoatual = anoatual+1\n",
        "              while anoatual == 2011:\n",
        "                print('Ano de:',anoatual)\n",
        "                salaumento = (salainicial*0.48)+salainicial\n",
        "                print('O Salário é',salaumento,'$')\n",
        "                anoatual = anoatual+1\n",
        "                while anoatual == 2012:\n",
        "                  print('Ano de:',anoatual)\n",
        "                  salaumento = (salainicial*0.96)+salainicial\n",
        "                  print('O Salário é',salaumento,'$')\n",
        "                  anoatual = anoatual+1\n",
        "                  while anoatual == 2013:\n",
        "                    print('Ano de:',anoatual)\n",
        "                    salaumento = (salainicial*1.92)+salainicial\n",
        "                    print('O Salário é',salaumento,'$')\n",
        "                    anoatual = anoatual+1\n",
        "                    while anoatual == 2014:\n",
        "                      print('Ano de:',anoatual)\n",
        "                      saumsalaumentoento = (salainicial*3.84)+salainicial\n",
        "                      print('O Salário é',salaumento,'$')\n",
        "                      anoatual = anoatual+1\n",
        "                      while anoatual == 2015:\n",
        "                        print('Ano de:',anoatual)\n",
        "                        salaumento = (salainicial*7.68)+salainicial\n",
        "                        print('O Salário é',salaumento,'$')\n",
        "                        anoatual = anoatual+1\n",
        "                        while anoatual == 2016:\n",
        "                          print('Ano de:',anoatual)\n",
        "                          salaumento = (salainicial*15.36)+salainicial\n",
        "                          print('O Salário é',salaumento,'$')\n",
        "                          anoatual = anoatual+1\n",
        "                          while anoatual == 2017:\n",
        "                            print('Ano de:',anoatual)\n",
        "                            salaumento = (salainicial*30.72)+salainicial\n",
        "                            print('O Salário é',salaumento,'$')\n",
        "                            anoatual = anoatual+1\n",
        "                            while anoatual == 2018:\n",
        "                              print('Ano de:',anoatual)\n",
        "                              salaumento = (salainicial*61.44)+salainicial\n",
        "                              print('O Salário é',salaumento,'$')\n",
        "                              anoatual = anoatual+1\n",
        "                              while anoatual == 2019:\n",
        "                                print('Ano de:',anoatual)\n",
        "                                salaumento = (salainicial*122.88)+salainicial\n",
        "                                print('O Salário é',salaumento,'$')\n",
        "                                anoatual = anoatual+1\n",
        "                                while anoatual == 2020:\n",
        "                                  print('Ano de:',anoatual)\n",
        "                                  salaumento = (salainicial*245.76)+salainicial\n",
        "                                  print('O Salário é',salaumento,'$')\n",
        "                                  anoatual = anoatual+1"
      ],
      "metadata": {
        "id": "cRy0If68aDKT"
      },
      "execution_count": null,
      "outputs": []
    },
    {
      "cell_type": "code",
      "source": [
        "numcriancas = -1\n",
        "while numcriancas<0:\n",
        "  numcriancas = int(input('Informe o número de crianças nascidas no período.'))\n",
        "  print('O total de criaças é: ', numcriancas)\n",
        "idadecrianca = -1\n",
        "while idadecrianca <0 or idadecrianca>24:\n",
        "  idadecrianca = int(input('Informe quantos meses viveu a criança.'))\n",
        "  print('A criança viveu: ',idadecrianca,'meses')\n",
        "sexocrianca = -1\n",
        "while sexocrianca !=1 and sexocrianca !=2:\n",
        "  sexocrianca = str(input('Informe o sexo da criança \"Masculino\" ou \"Feminino\".'))\n",
        "  print('O sexo da crinaça é: ',sexocrianca)\n",
        "mortestotal = 0\n",
        "mortesmasculino = 0\n",
        "mortesfeminino = 0\n",
        "if idadecrianca == 0:\n",
        "  mortestotal = mortestotal+ 1\n",
        "  if sexocrianca == 1:\n",
        "    mortesmasculino = mortesmasculino +1\n",
        "  if sexocrianca == 2:\n",
        "    mortesfeminino = mortesfeminino +1\n",
        "totalcriancas24 = 0    \n",
        "if idadecrianca <24:\n",
        "  totalcriancas24 = totalcriancas24 +1\n",
        "print('Total de Nascimentos',totalcriancas24)\n",
        "print('Percentual de crianças mortas no período')\n",
        "print('Percentual de crianças vivas no período')\n",
        "print('Percentual de crianças que viveram 24 meses')"
      ],
      "metadata": {
        "colab": {
          "base_uri": "https://localhost:8080/",
          "height": 554
        },
        "id": "OZGwp4A-aDFU",
        "outputId": "d219c909-154a-47a0-df8b-e655daad8247"
      },
      "execution_count": 7,
      "outputs": [
        {
          "output_type": "stream",
          "name": "stdout",
          "text": [
            "Informe o número de crianças nascidas no período.20\n",
            "O total de criaças é:  20\n",
            "Informe quantos meses viveu a criança.12\n",
            "A criança viveu:  12 meses\n",
            "Informe o sexo da criança 1-masculino,2-feminino.1\n",
            "O sexo da crinaça é:  1\n",
            "Informe o sexo da criança 1-masculino,2-feminino.2\n",
            "O sexo da crinaça é:  2\n",
            "Informe o sexo da criança 1-masculino,2-feminino.masculino\n",
            "O sexo da crinaça é:  masculino\n"
          ]
        },
        {
          "output_type": "error",
          "ename": "KeyboardInterrupt",
          "evalue": "ignored",
          "traceback": [
            "\u001b[0;31m---------------------------------------------------------------------------\u001b[0m",
            "\u001b[0;31mKeyboardInterrupt\u001b[0m                         Traceback (most recent call last)",
            "\u001b[0;32m<ipython-input-7-9855a9754227>\u001b[0m in \u001b[0;36m<module>\u001b[0;34m\u001b[0m\n\u001b[1;32m      9\u001b[0m \u001b[0msexocrianca\u001b[0m \u001b[0;34m=\u001b[0m \u001b[0;34m-\u001b[0m\u001b[0;36m1\u001b[0m\u001b[0;34m\u001b[0m\u001b[0;34m\u001b[0m\u001b[0m\n\u001b[1;32m     10\u001b[0m \u001b[0;32mwhile\u001b[0m \u001b[0msexocrianca\u001b[0m \u001b[0;34m!=\u001b[0m\u001b[0;36m1\u001b[0m \u001b[0;32mand\u001b[0m \u001b[0msexocrianca\u001b[0m \u001b[0;34m!=\u001b[0m\u001b[0;36m2\u001b[0m\u001b[0;34m:\u001b[0m\u001b[0;34m\u001b[0m\u001b[0;34m\u001b[0m\u001b[0m\n\u001b[0;32m---> 11\u001b[0;31m   \u001b[0msexocrianca\u001b[0m \u001b[0;34m=\u001b[0m \u001b[0mstr\u001b[0m\u001b[0;34m(\u001b[0m\u001b[0minput\u001b[0m\u001b[0;34m(\u001b[0m\u001b[0;34m'Informe o sexo da criança 1-masculino,2-feminino.'\u001b[0m\u001b[0;34m)\u001b[0m\u001b[0;34m)\u001b[0m\u001b[0;34m\u001b[0m\u001b[0;34m\u001b[0m\u001b[0m\n\u001b[0m\u001b[1;32m     12\u001b[0m   \u001b[0mprint\u001b[0m\u001b[0;34m(\u001b[0m\u001b[0;34m'O sexo da crinaça é: '\u001b[0m\u001b[0;34m,\u001b[0m\u001b[0msexocrianca\u001b[0m\u001b[0;34m)\u001b[0m\u001b[0;34m\u001b[0m\u001b[0;34m\u001b[0m\u001b[0m\n\u001b[1;32m     13\u001b[0m \u001b[0mmortestotal\u001b[0m \u001b[0;34m=\u001b[0m \u001b[0;36m0\u001b[0m\u001b[0;34m\u001b[0m\u001b[0;34m\u001b[0m\u001b[0m\n",
            "\u001b[0;32m/usr/local/lib/python3.7/dist-packages/ipykernel/kernelbase.py\u001b[0m in \u001b[0;36mraw_input\u001b[0;34m(self, prompt)\u001b[0m\n\u001b[1;32m    861\u001b[0m             \u001b[0mself\u001b[0m\u001b[0;34m.\u001b[0m\u001b[0m_parent_ident\u001b[0m\u001b[0;34m,\u001b[0m\u001b[0;34m\u001b[0m\u001b[0;34m\u001b[0m\u001b[0m\n\u001b[1;32m    862\u001b[0m             \u001b[0mself\u001b[0m\u001b[0;34m.\u001b[0m\u001b[0m_parent_header\u001b[0m\u001b[0;34m,\u001b[0m\u001b[0;34m\u001b[0m\u001b[0;34m\u001b[0m\u001b[0m\n\u001b[0;32m--> 863\u001b[0;31m             \u001b[0mpassword\u001b[0m\u001b[0;34m=\u001b[0m\u001b[0;32mFalse\u001b[0m\u001b[0;34m,\u001b[0m\u001b[0;34m\u001b[0m\u001b[0;34m\u001b[0m\u001b[0m\n\u001b[0m\u001b[1;32m    864\u001b[0m         )\n\u001b[1;32m    865\u001b[0m \u001b[0;34m\u001b[0m\u001b[0m\n",
            "\u001b[0;32m/usr/local/lib/python3.7/dist-packages/ipykernel/kernelbase.py\u001b[0m in \u001b[0;36m_input_request\u001b[0;34m(self, prompt, ident, parent, password)\u001b[0m\n\u001b[1;32m    902\u001b[0m             \u001b[0;32mexcept\u001b[0m \u001b[0mKeyboardInterrupt\u001b[0m\u001b[0;34m:\u001b[0m\u001b[0;34m\u001b[0m\u001b[0;34m\u001b[0m\u001b[0m\n\u001b[1;32m    903\u001b[0m                 \u001b[0;31m# re-raise KeyboardInterrupt, to truncate traceback\u001b[0m\u001b[0;34m\u001b[0m\u001b[0;34m\u001b[0m\u001b[0;34m\u001b[0m\u001b[0m\n\u001b[0;32m--> 904\u001b[0;31m                 \u001b[0;32mraise\u001b[0m \u001b[0mKeyboardInterrupt\u001b[0m\u001b[0;34m(\u001b[0m\u001b[0;34m\"Interrupted by user\"\u001b[0m\u001b[0;34m)\u001b[0m \u001b[0;32mfrom\u001b[0m \u001b[0;32mNone\u001b[0m\u001b[0;34m\u001b[0m\u001b[0;34m\u001b[0m\u001b[0m\n\u001b[0m\u001b[1;32m    905\u001b[0m             \u001b[0;32mexcept\u001b[0m \u001b[0mException\u001b[0m \u001b[0;32mas\u001b[0m \u001b[0me\u001b[0m\u001b[0;34m:\u001b[0m\u001b[0;34m\u001b[0m\u001b[0;34m\u001b[0m\u001b[0m\n\u001b[1;32m    906\u001b[0m                 \u001b[0mself\u001b[0m\u001b[0;34m.\u001b[0m\u001b[0mlog\u001b[0m\u001b[0;34m.\u001b[0m\u001b[0mwarning\u001b[0m\u001b[0;34m(\u001b[0m\u001b[0;34m\"Invalid Message:\"\u001b[0m\u001b[0;34m,\u001b[0m \u001b[0mexc_info\u001b[0m\u001b[0;34m=\u001b[0m\u001b[0;32mTrue\u001b[0m\u001b[0;34m)\u001b[0m\u001b[0;34m\u001b[0m\u001b[0;34m\u001b[0m\u001b[0m\n",
            "\u001b[0;31mKeyboardInterrupt\u001b[0m: Interrupted by user"
          ]
        }
      ]
    },
    {
      "cell_type": "code",
      "source": [
        "aluno1num1 = int(input('Aluno 01 - Insira a primeira nota'))\n",
        "aluno1num2 = int(input('Aluno 01 - Insira a segunda nota'))\n",
        "aluno2num1 = int(input('Aluno 02 - Insira a primeira nota'))\n",
        "aluno2num2 = int(input('Aluno 02 - Insira a segunda nota'))\n",
        "aluno3num1 = int(input('Aluno 03 - Insira a primeira nota'))\n",
        "aluno3num2 = int(input('Aluno 03 - Insira a segunda nota'))\n",
        "aluno4num1 = int(input('Aluno 04 - Insira a primeira nota'))\n",
        "aluno4num2 = int(input('Aluno 04 - Insira a segunda nota'))\n",
        "aluno5num1 = int(input('Aluno 05 - Insira a primeira nota'))\n",
        "aluno5num2 = int(input('Aluno 05 - Insira a segunda nota'))\n",
        "aluno6num1 = int(input('Aluno 06 - Insira a primeira nota'))\n",
        "aluno6num2 = int(input('Aluno 06 - Insira a segunda nota'))\n",
        "media1 = (aluno1num1+aluno1num2)/2\n",
        "media2 = (aluno2num1+aluno2num2)/2\n",
        "media3 = (aluno3num1+aluno3num2)/2\n",
        "media4 = (aluno4num1+aluno4num2)/2\n",
        "media5 = (aluno5num1+aluno5num2)/2\n",
        "media6 = (aluno6num1+aluno6num2)/2\n",
        "totalreprovados = 0\n",
        "totalaprovados = 0\n",
        "totalexame = 0\n",
        "print('A média do aluno 1 é: ',media1)\n",
        "print('A média do aluno 2 é: ',media2)\n",
        "print('A média do aluno 3 é: ',media3)\n",
        "print('A média do aluno 4 é: ',media4)\n",
        "print('A média do aluno 5 é: ',media5)\n",
        "print('A média do aluno 6 é: ',media6)\n",
        "if media1 >=0 and media1 <=29:\n",
        "  print('O aluno 1 foi Reprovado.')\n",
        "  totalreprovados = totalreprovados+1\n",
        "if media2 >=0 and media2 <=29:\n",
        "  print('O aluno 2 foi Reprovado.')\n",
        "  totalreprovados = totalreprovados+1\n",
        "if media3 >=0 and media3 <=29:\n",
        "  print('O aluno 3 foi Reprovado.')\n",
        "  totalreprovados = totalreprovados+1\n",
        "if media4 >=0 and media4 <=29:\n",
        "  print('O aluno 4 foi Reprovado.')\n",
        "  totalreprovados = totalreprovados+1\n",
        "if media5 >=0 and media5 <=29:\n",
        "  print('O aluno 5 foi Reprovado.')\n",
        "  totalreprovados = totalreprovados+1\n",
        "if media6 >=0 and media6 <=29:\n",
        "  print('O aluno 6 foi Reprovado.')\n",
        "  totalreprovados = totalreprovados+1\n",
        "if media1 >29 and media1 <=69:\n",
        "  print('O aluno 1 foi para o Exame Especial.')\n",
        "  totalexame = totalexame+1\n",
        "if media2 >29 and media2 <=69:\n",
        "  print('O aluno 2 foi para o Exame Especial.')\n",
        "  totalexame = totalexame+1\n",
        "if media3 >29 and media3 <=69:\n",
        "  print('O aluno 3 foi para o Exame Especial.')\n",
        "  totalexame = totalexame+1\n",
        "if media4 >29 and media4 <=69:\n",
        "  print('O aluno 4 foi para o Exame Especial.')\n",
        "  totalexame = totalexame+1\n",
        "if media5 >29 and media5 <=69:\n",
        "  print('O aluno 5 foi para o Exame Especial.')\n",
        "  totalexame = totalexame+1\n",
        "if media6 >29 and media6 <=69:\n",
        "  print('O aluno 6 foi para o Exame Especial.')\n",
        "  totalexame = totalexame+1\n",
        "if media1 >69 and media1 <=100:\n",
        "  print('O aluno 1 foi Aprovado.')\n",
        "  totalaprovados = totalaprovados+1\n",
        "if media2 >69 and media2 <=100:\n",
        "  print('O aluno 2 foi Aprovado.')\n",
        "  totalaprovados = totalaprovados+1\n",
        "if media3 >69 and media3 <=100:\n",
        "  print('O aluno 3 foi Aprovado.')\n",
        "  totalaprovados = totalaprovados+1\n",
        "if media4 >69 and media4 <=100:\n",
        "  print('O aluno 4 foi Aprovado.')\n",
        "  totalaprovados = totalaprovados+1\n",
        "if media5 >69 and media5 <=100:\n",
        "  print('O aluno 5 foi Aprovado.')\n",
        "  totalaprovados = totalaprovados+1\n",
        "if media6 >69 and media6 <=100:\n",
        "  print('O aluno 6 foi Aprovado.')\n",
        "  totalaprovados = totalaprovados+1\n",
        "print('Alunos Aprovados: ',totalaprovados)\n",
        "print('Alunos em Exame Especial: ',totalexame)\n",
        "print('Alunos Reprovados: ',totalreprovados)\n",
        "mediageral = (media1+media2+media3+media4+media5+media6)/6\n",
        "print('A média geral foi: ',mediageral)"
      ],
      "metadata": {
        "colab": {
          "base_uri": "https://localhost:8080/"
        },
        "id": "rkN6Hn6RaC_7",
        "outputId": "e1a466d0-2b4c-47f3-f1a0-6bb2d9c94cd2"
      },
      "execution_count": 1,
      "outputs": [
        {
          "output_type": "stream",
          "name": "stdout",
          "text": [
            "ALUNO 01 - Insira a primeira nota70\n",
            "ALUNO 01 - Insira a segunda nota60\n",
            "ALUNO 02 - Insira a primeira nota80\n",
            "ALUNO 02 - Insira a segunda nota50\n",
            "ALUNO 03 - Insira a primeira nota40\n",
            "ALUNO 03 - Insira a segunda nota60\n",
            "ALUNO 04 - Insira a primeira nota50\n",
            "ALUNO 04 - Insira a segunda nota50\n",
            "ALUNO 05 - Insira a primeira nota40\n",
            "ALUNO 05 - Insira a segunda nota47\n",
            "ALUNO 06 - Insira a primeira nota60\n",
            "ALUNO 06 - Insira a segunda nota66\n",
            "A média do aluno 1 é: 65.0\n",
            "A média do aluno 2 é: 65.0\n",
            "A média do aluno 3 é: 50.0\n",
            "A média do aluno 4 é: 50.0\n",
            "A média do aluno 5 é: 43.5\n",
            "A média do aluno 6 é: 63.0\n",
            "O aluno 1 foi para o exame especial\n",
            "O aluno 2 foi para o exame especial\n",
            "O aluno 3 foi para o exame especial\n",
            "O aluno 4 foi para o exame especial\n",
            "O aluno 5 foi para o exame especial\n",
            "O aluno 6 foi para o exame especial\n",
            "Alunos APROVADOS: 0\n",
            "Alunos em exame especial: 6\n",
            "Alunos REPROVADOS: 0\n",
            "A média geral foi: 56.083333333333336\n"
          ]
        }
      ]
    },
    {
      "cell_type": "code",
      "source": [
        "base = float(input('Informe a base do triângulo.'))\n",
        "altura = float(input('Informe a altura do triângulo.'))\n",
        "while base<=0 or altura <=0:\n",
        "  print('Dados Inválidos!')\n",
        "  base = float(input('Informe a base do triãngulo.') )\n",
        "  altura = float(input('Informe a altura do triângulo.'))\n",
        "area = (base*altura)/2\n",
        "print('A área do triângulo é: ',area)"
      ],
      "metadata": {
        "id": "1Cn1ENKsaC6M"
      },
      "execution_count": null,
      "outputs": []
    },
    {
      "cell_type": "code",
      "source": [
        "num = int(input(\"Informe um número.\"))\n",
        "while num >0:\n",
        "  quadrado = num*num\n",
        "  cubo = num*num*num\n",
        "  raiz = num ** (1/2)\n",
        "  print('O quadrado do número é: ',quadrado)\n",
        "  print('O Cubo do número é: ',cubo)\n",
        "  print('A raiz do número é:' ,raiz)\n",
        "  num = int(input(\"Informe um número.\"))\n",
        "print('Programa Finalizado.')"
      ],
      "metadata": {
        "id": "kUhOBtJ6aCyk"
      },
      "execution_count": null,
      "outputs": []
    },
    {
      "cell_type": "code",
      "source": [
        "m = int(input(\"Informe um número.\"))\n",
        "n = int(input(\"Informe mais um número.\"))\n",
        "while m<n:\n",
        "  teste = n-m\n",
        "  for soma in m:\n",
        "    print(\"Não Consegui\",soma)\n",
        "  m = int(input(\"Informe um número.\"))\n",
        "  n = int(input(\"Informe mais um número.\"))  \n",
        "print('Fim.') "
      ],
      "metadata": {
        "id": "Z5J6Bi7PaCjM"
      },
      "execution_count": null,
      "outputs": []
    },
    {
      "cell_type": "code",
      "source": [
        "quantidadenum = 0\n",
        "somanum = 0\n",
        "maior = 0\n",
        "menor = 0\n",
        "somaPar = 0\n",
        "qtdPar = 0\n",
        "qtdImpar = 0\n",
        "num = int(input('Digite um valor.'))\n",
        "maior = num\n",
        "menor = num\n",
        "while(num != 99):\n",
        "  quantidadenum += 1\n",
        "  somanum += num\n",
        "  if num > maior:\n",
        "    maior = num\n",
        "    if num < menor:\n",
        "      menor = num\n",
        "      if num % 2 == 0:\n",
        "        qtdPar += 1\n",
        "        somaPar += num\n",
        "      qtdImpar += 1\n",
        "num = int(input('Digite um valor.'))\n",
        "print('Quantidade de números digitados:  {}'.format(quantidadenum))\n",
        "print('Média dos números:  {}'.format(somanum / quantidadenum))\n",
        "print('O maior número digitado foi:  {}'.format(maior))\n",
        "print('O menor número digitado foi:  {}'.format(menor))\n",
        "print('A média dos números pares:  {}'.format(somaPar / qtdPar))\n",
        "print('A porcentagem de números ímpares:  {}%'.format(qtdImpar / quantidadenum * 100))"
      ],
      "metadata": {
        "id": "a3IVvyvGaCZ8"
      },
      "execution_count": null,
      "outputs": []
    }
  ]
}