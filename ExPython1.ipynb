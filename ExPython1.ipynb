{
  "nbformat": 4,
  "nbformat_minor": 0,
  "metadata": {
    "colab": {
      "provenance": [],
      "collapsed_sections": []
    },
    "kernelspec": {
      "name": "python3",
      "display_name": "Python 3"
    },
    "language_info": {
      "name": "python"
    }
  },
  "cells": [
    {
      "cell_type": "code",
      "execution_count": 2,
      "metadata": {
        "colab": {
          "base_uri": "https://localhost:8080/"
        },
        "id": "ysK24_xGhMQM",
        "outputId": "12bb2d23-9d4c-4569-9fbf-09ad84a62b3e"
      },
      "outputs": [
        {
          "output_type": "stream",
          "name": "stdout",
          "text": [
            "hello world\n"
          ]
        }
      ],
      "source": [
        "print (\"hello world\") "
      ]
    },
    {
      "cell_type": "code",
      "source": [
        "print (\"Izabelle Nascimento Mendes Pereira\")"
      ],
      "metadata": {
        "colab": {
          "base_uri": "https://localhost:8080/"
        },
        "id": "4ZtV0uCHhOaz",
        "outputId": "301e5a3a-4645-4b51-9b1e-7b737d47b845"
      },
      "execution_count": 3,
      "outputs": [
        {
          "output_type": "stream",
          "name": "stdout",
          "text": [
            "Izabelle Nascimento Mendes Pereira\n"
          ]
        }
      ]
    },
    {
      "cell_type": "code",
      "source": [
        "print(\"*\\n**\\n***\\n****\\n*****\")"
      ],
      "metadata": {
        "id": "zau6b3CqhOZj"
      },
      "execution_count": null,
      "outputs": []
    },
    {
      "cell_type": "code",
      "source": [
        "x = int(input(\"Valor de X:\"))\n",
        "y = int(input(\"Valor de Y:\"))\n",
        "print(\"X=\",x)\n",
        "\n",
        "print(\"O valor de x + x é:\", x+x)\n",
        "\n",
        "print(\"X=\", x)\n",
        "\n",
        "print(\"(x + y) + (y + x)=\" ,(x+y) + (y+x))"
      ],
      "metadata": {
        "id": "oLmbQadChOX5"
      },
      "execution_count": null,
      "outputs": []
    },
    {
      "cell_type": "code",
      "source": [
        "print(\"A programação é aprendida escrevendo programas - Brian Kernighan\")"
      ],
      "metadata": {
        "id": "Y4kWDOvrhOWZ"
      },
      "execution_count": null,
      "outputs": []
    },
    {
      "cell_type": "code",
      "source": [
        "print(\"resultado do produto=\")\n",
        "print(25*27)"
      ],
      "metadata": {
        "id": "i4FbD45jhOUx"
      },
      "execution_count": null,
      "outputs": []
    },
    {
      "cell_type": "code",
      "source": [
        "print((4+12+15)/3)"
      ],
      "metadata": {
        "id": "W4z6GbIOhOS5"
      },
      "execution_count": null,
      "outputs": []
    },
    {
      "cell_type": "code",
      "source": [
        "x = int(input(\"Digite um Número Inteiro:\"))\n",
        "print(\"O número inteiro digitado foi:\")\n",
        "print(x)"
      ],
      "metadata": {
        "id": "rHIzJ06mhOPo"
      },
      "execution_count": null,
      "outputs": []
    },
    {
      "cell_type": "code",
      "source": [
        "n1 = int(input(\"Insira o primeiro valor:\"))\n",
        "n2 = int(input(\"Insira o segundo valor:\"))\n",
        "print(n1)\n",
        "print(n2)"
      ],
      "metadata": {
        "id": "O5eTwoMNhONw"
      },
      "execution_count": null,
      "outputs": []
    },
    {
      "cell_type": "code",
      "source": [
        "n1 = int(input(\"Insira o valor:\"))\n",
        "print ('Sucessor:',n1+1)\n",
        "print ('Antecessor:',n1-1)"
      ],
      "metadata": {
        "id": "Z7O9vZjlhOLy"
      },
      "execution_count": null,
      "outputs": []
    },
    {
      "cell_type": "code",
      "source": [
        "nome = str(input(\"Insira seu nome:\"))\n",
        "endereco = str(input(\"Insira seu endereço:\"))\n",
        "telefone = int(input(\"Insira seu telefone:\"))\n",
        "print ('Seu nome é:',nome)\n",
        "print ('Seu endereço é:',endereco)\n",
        "print ('Seu telefone é:',telefone)"
      ],
      "metadata": {
        "colab": {
          "base_uri": "https://localhost:8080/"
        },
        "id": "5koMElEjhOJx",
        "outputId": "8078e871-fa28-4823-d909-cdc8f2bd0964"
      },
      "execution_count": 1,
      "outputs": [
        {
          "output_type": "stream",
          "name": "stdout",
          "text": [
            "Insira seu nome:Izabelle Pereira\n",
            "Insira seu endereço:Rua adriano pinto sales\n",
            "Insira seu telefone:31995480598\n",
            "Seu nome é: Izabelle Pereira\n",
            "Seu endereço é: Rua adriano pinto sales\n",
            "Seu telefone é: 31995480598\n"
          ]
        }
      ]
    },
    {
      "cell_type": "code",
      "source": [
        "n1 = int(input(\"Insira um número inteiro:\"))\n",
        "n2 = int(input(\"Insira um número inteiro:\"))\n",
        "print ('A multiplacação dos valores é:', n1*n2)"
      ],
      "metadata": {
        "id": "4Hcf2BKmhOIE"
      },
      "execution_count": null,
      "outputs": []
    },
    {
      "cell_type": "code",
      "source": [
        "n1 = float(input(\"Insira um número real:\"))\n",
        "print ('A terça parte deste número é:', n1/3)"
      ],
      "metadata": {
        "id": "RFQWtBwAhOGK"
      },
      "execution_count": null,
      "outputs": []
    },
    {
      "cell_type": "code",
      "source": [
        "n1 = int(input(\"Insira um número inteiro:\"))\n",
        "n2 = int(input(\"Insira um número inteiro:\"))\n",
        "print ('O dividendo é:', n1)\n",
        "print ('O divisor é:', n2)\n",
        "print ('O quociente é:', n1/n2)\n",
        "print ('O resto da divisão é:',n1%n2)"
      ],
      "metadata": {
        "id": "lehOp-4YhOEb"
      },
      "execution_count": null,
      "outputs": []
    },
    {
      "cell_type": "code",
      "source": [
        "n1 = int(input(\"Insira um número inteiro:\"))\n",
        "n2 = int(input(\"Insira um número inteiro:\"))\n",
        "print ('A soma é:', n1+n2)\n",
        "print ('A subtração é:', n1-n2)\n",
        "print ('A Multiplicação é:', n1*n2)\n",
        "print ('A Divisão é:',n1/n2)"
      ],
      "metadata": {
        "id": "VYIr85wBhOAh"
      },
      "execution_count": null,
      "outputs": []
    },
    {
      "cell_type": "code",
      "source": [
        "n1 = int(input(\"Insira um número :\"))\n",
        "n2 = int(input(\"Insira um número :\"))\n",
        "n3 = int(input(\"Insira um número :\"))\n",
        "n4 = int(input(\"Insira um número :\"))\n",
        "print ('A soma dos números é:', n1+n2+n3+n4)"
      ],
      "metadata": {
        "id": "-ije3t40hN-B"
      },
      "execution_count": null,
      "outputs": []
    },
    {
      "cell_type": "code",
      "source": [
        "n1 = int(input(\"Insira uma nota :\"))\n",
        "n2 = int(input(\"Insira uma nota :\"))\n",
        "n3 = int(input(\"Insira uma nota :\"))\n",
        "print ('A média das notas é:', (n1+n2+n3)/3)"
      ],
      "metadata": {
        "id": "DyIy_2A9hN7n"
      },
      "execution_count": null,
      "outputs": []
    },
    {
      "cell_type": "code",
      "source": [
        "n1 = int(input(\"Insira uma nota :\"))\n",
        "p1 = int(input(\"Informe seu peso :\"))\n",
        "n2 = int(input(\"Insira uma nota :\"))\n",
        "p2 = int(input(\"Informe seu peso :\"))\n",
        "n3 = int(input(\"Insira uma nota :\"))\n",
        "p3 = int(input(\"Informe seu peso :\"))\n",
        "print ('A média ponderada é:', ((n1*p1+n2*p2+n3*p3)/(p1+p2+p3)))"
      ],
      "metadata": {
        "id": "MAGeOKSjhN5K"
      },
      "execution_count": null,
      "outputs": []
    },
    {
      "cell_type": "code",
      "source": [
        "salario = float(input(\"Insira o salário :\"))\n",
        "print ('O novo salarío é:',salario*0.25+salario)"
      ],
      "metadata": {
        "id": "h-02XL6rhNyR"
      },
      "execution_count": null,
      "outputs": []
    },
    {
      "cell_type": "code",
      "source": [
        "salario = float(input(\"Insira o salário :\"))\n",
        "aumento = float(input(\"Informe o percentual de aumento :\"))\n",
        "print ('O aumento é:',aumento/100,'%')\n",
        "print ('O novo salarío é:',salario*aumento/100+salario)"
      ],
      "metadata": {
        "id": "53WQI2ERhNwJ"
      },
      "execution_count": null,
      "outputs": []
    },
    {
      "cell_type": "code",
      "source": [
        "salario = float(input(\"Insira o salário :\"))\n",
        "bonificacao = salario*0.05+salario\n",
        "print ('O salário a receber é:', bonificacao-bonificacao*0.07)"
      ],
      "metadata": {
        "id": "B3uH0ylVhNtZ"
      },
      "execution_count": null,
      "outputs": []
    },
    {
      "cell_type": "code",
      "source": [
        "salario = float(input(\"Insira o salário :\"))\n",
        "bonificacao = salario+50\n",
        "print ('O salário a receber é:', bonificacao-bonificacao*0.10)"
      ],
      "metadata": {
        "id": "okM1M0jShNqX"
      },
      "execution_count": null,
      "outputs": []
    },
    {
      "cell_type": "code",
      "source": [
        "deposito = float(input(\"Insira o deposito :\"))\n",
        "taxa = float(input(\"Insira o valor da taxa de juros :\"))\n",
        "juros = taxa/100\n",
        "print ('O rendimento é de:',juros,'%' )\n",
        "print ('O rendimento total é de:',juros*deposito+deposito )"
      ],
      "metadata": {
        "id": "Ha5FV_VNhNj5"
      },
      "execution_count": null,
      "outputs": []
    },
    {
      "cell_type": "code",
      "source": [
        "base = int(input(\"Insira o valor da base :\"))\n",
        "altura = int(input(\"Insira o valor da altura :\"))\n",
        "area = base*altura/2 \n",
        "print  ('A área do triangulo é:',area)"
      ],
      "metadata": {
        "id": "AUdyXupphNRD"
      },
      "execution_count": null,
      "outputs": []
    },
    {
      "cell_type": "code",
      "source": [
        "raio = int(input(\"Insira o valor do raio :\"))\n",
        "print ('o Diâmetro é:',raio*2)\n",
        "print ('A circunferencia é:', 2*3,14*raio)\n",
        "print ('A área é:',3,14*(raio*raio))"
      ],
      "metadata": {
        "id": "vb-3cj8-iNiN"
      },
      "execution_count": null,
      "outputs": []
    },
    {
      "cell_type": "code",
      "source": [
        "n = int(input(\"Insira um numero positivo>0 :\"))\n",
        "print ('O número ao quadrado é:', n*n )\n",
        "print ('O número ao cubo é:', n*n*n )\n",
        "print ('A raiz quadrada é:', n ** (1/2))"
      ],
      "metadata": {
        "id": "Y5xkpkUxiNx_"
      },
      "execution_count": null,
      "outputs": []
    },
    {
      "cell_type": "code",
      "source": [
        "n1 = int(input(\"Insira um numero positivo>0 :\"))\n",
        "n2 = int(input(\"Insira um numero positivo>0 :\"))\n",
        "print ('A potencia é:', n1 ** n2)"
      ],
      "metadata": {
        "id": "vDA-C9ZliOC2"
      },
      "execution_count": null,
      "outputs": []
    },
    {
      "cell_type": "code",
      "source": [
        "pes = int(input(\"Insira a medida em pes :\"))\n",
        "jarda = pes/3\n",
        "print ('A medida em polegadas é:', pes*12 )\n",
        "print ('A medida em jardas é:', jarda )\n",
        "print ('A medida em milhas é:', jarda/1,760 )"
      ],
      "metadata": {
        "id": "PCnRasXEiTdX"
      },
      "execution_count": null,
      "outputs": []
    },
    {
      "cell_type": "code",
      "source": [
        "n = int(input(\"Insira um numero de 5 digitos :\"))\n",
        "n1 = n/10000\n",
        "n2 = n/1000%10\n",
        "n3 = n/100%100\n",
        "n4 = n/10%1000\n",
        "n5 = n%100000\n",
        "print (n1,n2,n3,n4,n5)"
      ],
      "metadata": {
        "id": "6peguj01iT1O"
      },
      "execution_count": null,
      "outputs": []
    },
    {
      "cell_type": "code",
      "source": [],
      "metadata": {
        "id": "A89PBekNiUEO"
      },
      "execution_count": null,
      "outputs": []
    },
    {
      "cell_type": "code",
      "source": [],
      "metadata": {
        "id": "ym57nEQmiUOm"
      },
      "execution_count": null,
      "outputs": []
    },
    {
      "cell_type": "code",
      "source": [],
      "metadata": {
        "id": "idpq84RdiUiY"
      },
      "execution_count": null,
      "outputs": []
    }
  ]
}