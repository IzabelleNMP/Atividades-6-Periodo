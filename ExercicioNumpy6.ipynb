{
  "nbformat": 4,
  "nbformat_minor": 0,
  "metadata": {
    "colab": {
      "provenance": []
    },
    "kernelspec": {
      "name": "python3",
      "display_name": "Python 3"
    },
    "language_info": {
      "name": "python"
    }
  },
  "cells": [
    {
      "cell_type": "code",
      "execution_count": null,
      "metadata": {
        "id": "JqpRNgaubDqV"
      },
      "outputs": [],
      "source": [
        "import numpy as np"
      ]
    },
    {
      "cell_type": "code",
      "source": [
        "import numpy as np\n",
        "vetor = np.array([0,1,2,3,4,5,6,7,8,9,10])\n",
        "print (vetor)"
      ],
      "metadata": {
        "id": "u7VBGIkabc8R"
      },
      "execution_count": null,
      "outputs": []
    },
    {
      "cell_type": "code",
      "source": [
        "print(len(vetor))"
      ],
      "metadata": {
        "id": "F1MQt2mEbc2W"
      },
      "execution_count": null,
      "outputs": []
    },
    {
      "cell_type": "code",
      "source": [
        "print(vetor.ndim)"
      ],
      "metadata": {
        "id": "xeo5GuNZbcvw"
      },
      "execution_count": null,
      "outputs": []
    },
    {
      "cell_type": "code",
      "source": [
        "import numpy as np\n",
        "print(vetor.shape)"
      ],
      "metadata": {
        "id": "8nk1fgombcpQ"
      },
      "execution_count": null,
      "outputs": []
    },
    {
      "cell_type": "code",
      "source": [
        "import numpy as np\n",
        "pares = np.arange(0,8,2)\n",
        "print(pares)"
      ],
      "metadata": {
        "id": "ks8ckvySbcjA"
      },
      "execution_count": null,
      "outputs": []
    },
    {
      "cell_type": "code",
      "source": [
        "valoresneg = np.arange(1,11,2)\n",
        "print(valoresneg)\n",
        "valoresneg = [-1,-1,-1,-1,-1]\n",
        "print(valoresneg)"
      ],
      "metadata": {
        "id": "R6ddm0IObccw"
      },
      "execution_count": null,
      "outputs": []
    },
    {
      "cell_type": "code",
      "source": [
        "import numpy as np\n",
        "vetor_uni = np.array([0,1,2,3,4,5])\n",
        "vetor_uni.reshape(3,2)"
      ],
      "metadata": {
        "id": "8Kisgu2WbcV_"
      },
      "execution_count": null,
      "outputs": []
    },
    {
      "cell_type": "code",
      "source": [
        "import numpy as np\n",
        "intersec = np.intersect1d([1, 2, 3, 4, 6, 8], [2, 4, 5, 6, 7, 9])\n",
        "print(intersec)"
      ],
      "metadata": {
        "id": "h5xvMephbcPO"
      },
      "execution_count": null,
      "outputs": []
    },
    {
      "cell_type": "code",
      "source": [
        "import numpy as np\n",
        "vetor_a = np.array([1,2,3,4,5,6])\n",
        "vetor_b = np.array([0,2,4,5,6])\n",
        "print(np.setdiff1d(vetor_a, vetor_b))"
      ],
      "metadata": {
        "id": "nx-PMoT3bcIy"
      },
      "execution_count": null,
      "outputs": []
    },
    {
      "cell_type": "code",
      "source": [
        "import numpy as np\n",
        "intersec = np.intersect1d([1, 2, 3, 4, 5, 8], [2, 3, 5, 6, 7, 9])\n",
        "print(intersec)"
      ],
      "metadata": {
        "id": "F6iFMyNebcB9"
      },
      "execution_count": null,
      "outputs": []
    },
    {
      "cell_type": "code",
      "source": [
        "import numpy as np\n",
        "a = np.array([0,1,2,3,4,5,6,7,8,9,10,11,12,13,14,15,16,17,18,19,20])\n",
        "a = np.arange(6,15)\n",
        "print(a)"
      ],
      "metadata": {
        "id": "U7CEaw42bb6O"
      },
      "execution_count": null,
      "outputs": []
    },
    {
      "cell_type": "code",
      "source": [
        "import numpy as np\n",
        "\n",
        "vetor_aleatorio = np.random.rand(5)\n",
        "print(vetor_aleatorio)\n",
        "maximo = vetor_aleatorio.max(0)\n",
        "minimo = vetor_aleatorio.min()\n",
        "print('O valor máximo do vetor é:', maximo)\n",
        "print('O valor minimo do vetor é:',minimo)"
      ],
      "metadata": {
        "id": "ig9iWbRRbbzJ"
      },
      "execution_count": null,
      "outputs": []
    },
    {
      "cell_type": "code",
      "source": [
        "import numpy as np\n",
        "\n",
        "matriz_numpy = np.array([[7,8,9], [4,5,6],[1,2,3]]) \n",
        "print(matriz_numpy)"
      ],
      "metadata": {
        "id": "m7lk2Iaebbsm"
      },
      "execution_count": null,
      "outputs": []
    },
    {
      "cell_type": "code",
      "source": [
        "matriz_numpy[:,[0, 2]] = matriz_numpy[:,[2, 0]]\n",
        "print(matriz_numpy)"
      ],
      "metadata": {
        "id": "Mvy2YcQQbblY"
      },
      "execution_count": null,
      "outputs": []
    },
    {
      "cell_type": "code",
      "source": [
        "matriz_numpy[[0,2],:] = matriz_numpy[[2,0],:]\n",
        "print(matriz_numpy)"
      ],
      "metadata": {
        "id": "OeH9rlxJbbe2"
      },
      "execution_count": null,
      "outputs": []
    },
    {
      "cell_type": "code",
      "source": [
        "import numpy as np\n",
        "\n",
        "matriz = np.random.randint(5, size=(7, 5))\n",
        "print(matriz)"
      ],
      "metadata": {
        "id": "3LPZZ1bpbbXm"
      },
      "execution_count": null,
      "outputs": []
    },
    {
      "cell_type": "code",
      "source": [
        " print(len(matriz))"
      ],
      "metadata": {
        "id": "Yra7vDn5bbQm"
      },
      "execution_count": null,
      "outputs": []
    },
    {
      "cell_type": "code",
      "source": [
        "print(matriz.ndim)"
      ],
      "metadata": {
        "id": "OPnw6uMrbbI-"
      },
      "execution_count": null,
      "outputs": []
    },
    {
      "cell_type": "code",
      "source": [
        "import numpy as np\n",
        "print(matriz.shape)"
      ],
      "metadata": {
        "id": "7as4VW3qbbB3"
      },
      "execution_count": null,
      "outputs": []
    },
    {
      "cell_type": "markdown",
      "source": [
        "Análise de Dados dos Jogadores da FIFA"
      ],
      "metadata": {
        "id": "RkkopIcjcOUS"
      }
    },
    {
      "cell_type": "code",
      "source": [
        "import numpy as np  "
      ],
      "metadata": {
        "id": "KGh6BsDjba62"
      },
      "execution_count": null,
      "outputs": []
    },
    {
      "cell_type": "code",
      "source": [
        "dados = np.genfromtxt('fifa.csv', skip_header=True,delimiter = ',',encoding='UTF-8')\n",
        "\n",
        "print (dados)"
      ],
      "metadata": {
        "id": "iBfREM5zbat1"
      },
      "execution_count": null,
      "outputs": []
    },
    {
      "cell_type": "code",
      "source": [
        "print(len(dados)) "
      ],
      "metadata": {
        "id": "s8Jd-WZZbaoZ"
      },
      "execution_count": null,
      "outputs": []
    },
    {
      "cell_type": "code",
      "source": [
        "print(dados.ndim)"
      ],
      "metadata": {
        "id": "tgH8olRdbajN"
      },
      "execution_count": null,
      "outputs": []
    },
    {
      "cell_type": "code",
      "source": [
        "print(dados.shape)"
      ],
      "metadata": {
        "id": "sJKbLBRzbad_"
      },
      "execution_count": null,
      "outputs": []
    },
    {
      "cell_type": "code",
      "source": [
        "print(dados[2, 3])"
      ],
      "metadata": {
        "id": "dkEMwBD5baYv"
      },
      "execution_count": null,
      "outputs": []
    },
    {
      "cell_type": "code",
      "source": [
        "print(dados[1])"
      ],
      "metadata": {
        "id": "6iy4beSLbaT2"
      },
      "execution_count": null,
      "outputs": []
    },
    {
      "cell_type": "code",
      "source": [
        "print(dados[:5])"
      ],
      "metadata": {
        "id": "SEH0_b2UbaOn"
      },
      "execution_count": null,
      "outputs": []
    },
    {
      "cell_type": "code",
      "source": [
        "print(dados[:,1])"
      ],
      "metadata": {
        "id": "RwTnyqY3baI1"
      },
      "execution_count": null,
      "outputs": []
    },
    {
      "cell_type": "code",
      "source": [
        "idades = np.array(dados[:, 2], dtype=int)\n",
        "print(idades)"
      ],
      "metadata": {
        "id": "M-hB_iRebaDH"
      },
      "execution_count": null,
      "outputs": []
    },
    {
      "cell_type": "code",
      "source": [
        "print(idades.mean())"
      ],
      "metadata": {
        "id": "yvE50aiMbZ9O"
      },
      "execution_count": null,
      "outputs": []
    },
    {
      "cell_type": "code",
      "source": [
        "print(idades.max())"
      ],
      "metadata": {
        "id": "YqYUIcygbZ29"
      },
      "execution_count": null,
      "outputs": []
    },
    {
      "cell_type": "code",
      "source": [
        "print(idades.min())"
      ],
      "metadata": {
        "id": "OZAN_IQCbZwG"
      },
      "execution_count": null,
      "outputs": []
    },
    {
      "cell_type": "code",
      "source": [
        "maior_idade = idades.max()\n",
        "x = dados[:, 2].astype(int) == maior_idade\n",
        "print(dados[x, :])\n",
        "print(len(dados[x, :]))"
      ],
      "metadata": {
        "id": "UAaTKGDHbZoV"
      },
      "execution_count": null,
      "outputs": []
    },
    {
      "cell_type": "code",
      "source": [
        "menor_idade = idades.min()\n",
        "y = dados[:, 2].astype(int) == menor_idade\n",
        "print(dados[y, :])"
      ],
      "metadata": {
        "id": "l3tNnph1bZhN"
      },
      "execution_count": null,
      "outputs": []
    },
    {
      "cell_type": "code",
      "source": [
        "todosbr = dados[:, 3] = b'Brasil'"
      ],
      "metadata": {
        "id": "iN38r0XRbZYr"
      },
      "execution_count": null,
      "outputs": []
    },
    {
      "cell_type": "code",
      "source": [
        "dados_brasil = dados[condicao, :]\n",
        "print(dados_brasil)\n",
        "print(len(dados_brasil))"
      ],
      "metadata": {
        "id": "9Pg_p9t2bZQl"
      },
      "execution_count": null,
      "outputs": []
    },
    {
      "cell_type": "code",
      "source": [
        "condicao01 = dados[:, 2] != b''\n",
        "idade = dados[condicao01, 2].astype(float)\n",
        "print(idade.mean())\n",
        "print(idade.min())\n",
        "print(idade.max())\n",
        "\n",
        "condicao01 = dados[:, 10] != b''\n",
        "altura = dados[condicao01, 10].astype(float)\n",
        "print(altura.mean())\n",
        "print(altura.min())\n",
        "print(altura.max())\n",
        "\n",
        "condicao02 = dados[:, 11] != b''\n",
        "peso = dados[condicao02, 11].astype(float)\n",
        "print(peso.mean())\n",
        "print(peso.min())\n",
        "print(peso.max())"
      ],
      "metadata": {
        "id": "IhAmpOEibZIT"
      },
      "execution_count": null,
      "outputs": []
    },
    {
      "cell_type": "code",
      "source": [],
      "metadata": {
        "id": "VnDO4MB_bY-9"
      },
      "execution_count": null,
      "outputs": []
    },
    {
      "cell_type": "code",
      "source": [],
      "metadata": {
        "id": "ULYVcg3MbYxm"
      },
      "execution_count": null,
      "outputs": []
    }
  ]
}